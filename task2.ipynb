{
  "nbformat": 4,
  "nbformat_minor": 0,
  "metadata": {
    "colab": {
      "provenance": [],
      "authorship_tag": "ABX9TyN3gMZ3kn+llEuNLG3oKoAb",
      "include_colab_link": true
    },
    "kernelspec": {
      "name": "python3",
      "display_name": "Python 3"
    },
    "language_info": {
      "name": "python"
    }
  },
  "cells": [
    {
      "cell_type": "markdown",
      "metadata": {
        "id": "view-in-github",
        "colab_type": "text"
      },
      "source": [
        "<a href=\"https://colab.research.google.com/github/lokeshjajula/different-input-versions/blob/main/task2.ipynb\" target=\"_parent\"><img src=\"https://colab.research.google.com/assets/colab-badge.svg\" alt=\"Open In Colab\"/></a>"
      ]
    },
    {
      "cell_type": "code",
      "execution_count": null,
      "metadata": {
        "colab": {
          "base_uri": "https://localhost:8080/"
        },
        "id": "GZJaWUWMKvs7",
        "outputId": "d156f0d7-64bf-41a9-893d-1cd456710963"
      },
      "outputs": [
        {
          "output_type": "stream",
          "name": "stdout",
          "text": [
            "Hardcoded Values:\n",
            "Name: J Lokesh\n",
            "Age: 19\n",
            "Height: 5.9 feet\n"
          ]
        }
      ],
      "source": [
        "# Step 1: Hardcoding Variables\n",
        "\n",
        "# Hardcoded variables\n",
        "name = \"J Lokesh\"\n",
        "age = 19\n",
        "height = 5.9\n",
        "\n",
        "# Displaying the hardcoded values\n",
        "print(\"Hardcoded Values:\")\n",
        "print(f\"Name: {name}\")\n",
        "print(f\"Age: {age}\")\n",
        "print(f\"Height: {height} feet\")\n"
      ]
    },
    {
      "cell_type": "code",
      "source": [
        "# Step 2: Keyboard Input\n",
        "\n",
        "# Accepting user input\n",
        "user_name = input(\"Enter your name: \")\n",
        "user_age = int(input(\"Enter your age: \"))\n",
        "user_height = float(input(\"Enter your height in feet: \"))\n",
        "\n",
        "# Displaying user input\n",
        "print(\"\\nUser Input Values:\")\n",
        "print(f\"Name: {user_name}\")\n",
        "print(f\"Age: {user_age}\")\n",
        "print(f\"Height: {user_height} feet\")\n"
      ],
      "metadata": {
        "colab": {
          "base_uri": "https://localhost:8080/"
        },
        "id": "rW9yBUdMPBmL",
        "outputId": "bd8e9a54-0916-4a41-930e-ab047b033ee6"
      },
      "execution_count": null,
      "outputs": [
        {
          "output_type": "stream",
          "name": "stdout",
          "text": [
            "Enter your name: J Lokesh\n",
            "Enter your age: 19\n",
            "Enter your height in feet: 5.9\n",
            "\n",
            "User Input Values:\n",
            "Name: J Lokesh\n",
            "Age: 19\n",
            "Height: 5.9 feet\n"
          ]
        }
      ]
    },
    {
      "cell_type": "code",
      "source": [
        "# Step 3: Read From File (Single Input)\n",
        "\n",
        "# Creating a sample file to read from\n",
        "with open('input.txt', 'w') as f:\n",
        "    f.write(\"J Lokesh\")\n",
        "\n",
        "# Reading the single input from the file\n",
        "with open('input.txt', 'r') as f:\n",
        "    file_input = f.read().strip()\n",
        "\n",
        "print(\"\\nRead from File (Single Input):\")\n",
        "print(f\"Name from file: {file_input}\")\n"
      ],
      "metadata": {
        "colab": {
          "base_uri": "https://localhost:8080/"
        },
        "id": "_kKnKgh8P0eX",
        "outputId": "664c910c-694c-4a36-fe60-26f79c2e2bfe"
      },
      "execution_count": null,
      "outputs": [
        {
          "output_type": "stream",
          "name": "stdout",
          "text": [
            "\n",
            "Read from File (Single Input):\n",
            "Name from file: J Lokesh\n"
          ]
        }
      ]
    },
    {
      "cell_type": "code",
      "source": [
        "# Step 4: Read From File (Multiple Inputs)\n",
        "\n",
        "# Creating a sample file with multiple inputs\n",
        "with open('input_multiple.txt', 'w') as f:\n",
        "    f.write(\"J Lokesh\\n19\\n5.9\")\n",
        "\n",
        "# Reading multiple lines from the file\n",
        "with open('input_multiple.txt', 'r') as f:\n",
        "    file_lines = f.readlines()\n",
        "\n",
        "# Processing the multiple lines\n",
        "name_from_file = file_lines[0].strip()\n",
        "age_from_file = int(file_lines[1].strip())\n",
        "height_from_file = float(file_lines[2].strip())\n",
        "\n",
        "print(\"\\nRead from File (Multiple Inputs):\")\n",
        "print(f\"Name: {name_from_file}\")\n",
        "print(f\"Age: {age_from_file}\")\n",
        "print(f\"Height: {height_from_file} feet\")\n"
      ],
      "metadata": {
        "colab": {
          "base_uri": "https://localhost:8080/"
        },
        "id": "1IlzRWQkP2_W",
        "outputId": "bb7d6899-e9dd-420c-9120-6d6e25d07e13"
      },
      "execution_count": null,
      "outputs": [
        {
          "output_type": "stream",
          "name": "stdout",
          "text": [
            "\n",
            "Read from File (Multiple Inputs):\n",
            "Name: J Lokesh\n",
            "Age: 19\n",
            "Height: 5.9 feet\n"
          ]
        }
      ]
    },
    {
      "cell_type": "code",
      "source": [
        "# Version 1: Hardcoded Variables\n",
        "version1_code = \"\"\"\n",
        "# Hardcoded Variables\n",
        "name = \"John Doe\"\n",
        "age = 25\n",
        "height = 5.9\n",
        "print(f\"Name: {name}\")\n",
        "print(f\"Age: {age}\")\n",
        "print(f\"Height: {height} feet\")\n",
        "\"\"\"\n",
        "\n",
        "with open('version1_hardcoded.py', 'w') as f:\n",
        "    f.write(version1_code)\n",
        "\n",
        "# Version 2: Keyboard Input\n",
        "version2_code = \"\"\"\n",
        "# Keyboard Input\n",
        "user_name = input(\"Enter your name: \")\n",
        "user_age = int(input(\"Enter your age: \"))\n",
        "user_height = float(input(\"Enter your height in feet: \"))\n",
        "print(f\"Name: {user_name}\")\n",
        "print(f\"Age: {user_age}\")\n",
        "print(f\"Height: {user_height} feet\")\n",
        "\"\"\"\n",
        "\n",
        "with open('version2_input.py', 'w') as f:\n",
        "    f.write(version2_code)\n",
        "\n",
        "# Version 3: Read from File (Single Input)\n",
        "version3_code = \"\"\"\n",
        "# Read From File (Single Input)\n",
        "with open('input.txt', 'r') as f:\n",
        "    file_input = f.read().strip()\n",
        "print(f\"Name from file: {file_input}\")\n",
        "\"\"\"\n",
        "\n",
        "with open('version3_file_single.py', 'w') as f:\n",
        "    f.write(version3_code)\n",
        "\n",
        "# Version 4: Read from File (Multiple Inputs)\n",
        "version4_code = \"\"\"\n",
        "# Read From File (Multiple Inputs)\n",
        "with open('input_multiple.txt', 'r') as f:\n",
        "    file_lines = f.readlines()\n",
        "name_from_file = file_lines[0].strip()\n",
        "age_from_file = int(file_lines[1].strip())\n",
        "height_from_file = float(file_lines[2].strip())\n",
        "print(f\"Name: {name_from_file}\")\n",
        "print(f\"Age: {age_from_file}\")\n",
        "print(f\"Height: {height_from_file} feet\")\n",
        "\"\"\"\n",
        "\n",
        "with open('version4_file_multiple.py', 'w') as f:\n",
        "    f.write(version4_code)\n",
        "\n",
        "print(\"\\nAll versions of the code have been saved as Python files.\")\n"
      ],
      "metadata": {
        "id": "bmnsi2CsVDtl",
        "colab": {
          "base_uri": "https://localhost:8080/"
        },
        "outputId": "674f8915-a558-4534-d8aa-b170c4ee167d"
      },
      "execution_count": 9,
      "outputs": [
        {
          "output_type": "stream",
          "name": "stdout",
          "text": [
            "\n",
            "All versions of the code have been saved as Python files.\n"
          ]
        }
      ]
    }
  ]
}